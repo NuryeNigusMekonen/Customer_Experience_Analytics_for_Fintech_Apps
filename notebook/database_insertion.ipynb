{
 "cells": [
  {
   "cell_type": "code",
   "execution_count": null,
   "id": "f16f7a32",
   "metadata": {},
   "outputs": [
    {
     "name": "stdout",
     "output_type": "stream",
     "text": [
      "['REVIEW', 'RATING', 'REVIEW_DATE', 'BANK', 'SOURCE', 'SENTIMENT_LABEL', 'SENTIMENT_SCORE']\n",
      "(<oracledb.LOB object at 0x7cb796007aa0>, 4, datetime.datetime(2025, 6, 7, 0, 0), 'Commercial Bank of Ethiopia', 'Google Play', 'POSITIVE', 0.9992928504943848)\n",
      "(<oracledb.LOB object at 0x7cb793d3aba0>, 4, datetime.datetime(2025, 6, 7, 0, 0), 'Commercial Bank of Ethiopia', 'Google Play', 'POSITIVE', 0.9971959590911864)\n",
      "(<oracledb.LOB object at 0x7cb793d3ab40>, 5, datetime.datetime(2025, 6, 7, 0, 0), 'Commercial Bank of Ethiopia', 'Google Play', 'POSITIVE', 0.9988697171211244)\n",
      "(<oracledb.LOB object at 0x7cb793d3ab10>, 2, datetime.datetime(2025, 6, 7, 0, 0), 'Commercial Bank of Ethiopia', 'Google Play', 'NEGATIVE', 0.9996840953826904)\n",
      "(<oracledb.LOB object at 0x7cb793d3aae0>, 4, datetime.datetime(2025, 6, 6, 0, 0), 'Commercial Bank of Ethiopia', 'Google Play', 'NEGATIVE', 0.9964652061462402)\n",
      "(<oracledb.LOB object at 0x7cb793d3aa80>, 1, datetime.datetime(2025, 6, 5, 0, 0), 'Commercial Bank of Ethiopia', 'Google Play', 'NEGATIVE', 0.9996225833892822)\n",
      "(<oracledb.LOB object at 0x7cb793d3a9f0>, 5, datetime.datetime(2025, 6, 5, 0, 0), 'Commercial Bank of Ethiopia', 'Google Play', 'POSITIVE', 0.9998679161071776)\n",
      "(<oracledb.LOB object at 0x7cb793d3a990>, 3, datetime.datetime(2025, 6, 5, 0, 0), 'Commercial Bank of Ethiopia', 'Google Play', 'NEGATIVE', 0.9953354001045228)\n",
      "(<oracledb.LOB object at 0x7cb793d38350>, 1, datetime.datetime(2025, 6, 4, 0, 0), 'Commercial Bank of Ethiopia', 'Google Play', 'NEGATIVE', 0.9905161261558532)\n",
      "(<oracledb.LOB object at 0x7cb793d384a0>, 2, datetime.datetime(2025, 6, 4, 0, 0), 'Commercial Bank of Ethiopia', 'Google Play', 'NEGATIVE', 0.998119294643402)\n",
      "Table 'BANK_REVIEWS' does not exist. Creating now...\n",
      "Table created successfully.\n",
      "Inserted 849 records into Oracle DB.\n"
     ]
    }
   ],
   "source": [
    "import pandas as pd\n",
    "import sys\n",
    "import os\n",
    "sys.path.append(os.path.abspath(\"..\"))\n",
    "from db.insert_reviews import insert_reviews_from_csv\n",
    "from db.sample_data_reviwer import print_sample_reviews\n",
    "schema_file_path = os.path.join(\"..\", \"db\", \"schema.sql\")\n",
    "insert_reviews_from_csv(\"../outputs/sentiment/all_banks_sentiment.csv\", schema_file_path)"
   ]
  },
  {
   "cell_type": "code",
   "execution_count": null,
   "id": "ad284cb7",
   "metadata": {},
   "outputs": [
    {
     "name": "stdout",
     "output_type": "stream",
     "text": [
      "Sample reviews from the database:\n",
      "['REVIEW', 'RATING', 'REVIEW_DATE', 'BANK', 'SOURCE', 'SENTIMENT_LABEL', 'SENTIMENT_SCORE']\n",
      "(<oracledb.LOB object at 0x7cb8004597c0>, 4, datetime.datetime(2025, 6, 7, 0, 0), 'Commercial Bank of Ethiopia', 'Google Play', 'POSITIVE', 0.9992928504943848)\n",
      "(<oracledb.LOB object at 0x7cb800459820>, 4, datetime.datetime(2025, 6, 7, 0, 0), 'Commercial Bank of Ethiopia', 'Google Play', 'POSITIVE', 0.9971959590911864)\n",
      "(<oracledb.LOB object at 0x7cb794ffa600>, 5, datetime.datetime(2025, 6, 7, 0, 0), 'Commercial Bank of Ethiopia', 'Google Play', 'POSITIVE', 0.9988697171211244)\n",
      "(<oracledb.LOB object at 0x7cb7e4157bf0>, 2, datetime.datetime(2025, 6, 7, 0, 0), 'Commercial Bank of Ethiopia', 'Google Play', 'NEGATIVE', 0.9996840953826904)\n",
      "(<oracledb.LOB object at 0x7cb796398a40>, 4, datetime.datetime(2025, 6, 6, 0, 0), 'Commercial Bank of Ethiopia', 'Google Play', 'NEGATIVE', 0.9964652061462402)\n",
      "(<oracledb.LOB object at 0x7cb793d38350>, 1, datetime.datetime(2025, 6, 5, 0, 0), 'Commercial Bank of Ethiopia', 'Google Play', 'NEGATIVE', 0.9996225833892822)\n",
      "(<oracledb.LOB object at 0x7cb793d39130>, 5, datetime.datetime(2025, 6, 5, 0, 0), 'Commercial Bank of Ethiopia', 'Google Play', 'POSITIVE', 0.9998679161071776)\n",
      "(<oracledb.LOB object at 0x7cb793d3aba0>, 3, datetime.datetime(2025, 6, 5, 0, 0), 'Commercial Bank of Ethiopia', 'Google Play', 'NEGATIVE', 0.9953354001045228)\n",
      "(<oracledb.LOB object at 0x7cb793d3ab70>, 1, datetime.datetime(2025, 6, 4, 0, 0), 'Commercial Bank of Ethiopia', 'Google Play', 'NEGATIVE', 0.9905161261558532)\n",
      "(<oracledb.LOB object at 0x7cb793d38830>, 2, datetime.datetime(2025, 6, 4, 0, 0), 'Commercial Bank of Ethiopia', 'Google Play', 'NEGATIVE', 0.998119294643402)\n"
     ]
    }
   ],
   "source": [
    "print(\"Sample reviews from the database:\")\n",
    "print_sample_reviews(limit=10)\n"
   ]
  }
 ],
 "metadata": {
  "kernelspec": {
   "display_name": "UX-venv",
   "language": "python",
   "name": "python3"
  },
  "language_info": {
   "codemirror_mode": {
    "name": "ipython",
    "version": 3
   },
   "file_extension": ".py",
   "mimetype": "text/x-python",
   "name": "python",
   "nbconvert_exporter": "python",
   "pygments_lexer": "ipython3",
   "version": "3.12.3"
  }
 },
 "nbformat": 4,
 "nbformat_minor": 5
}
