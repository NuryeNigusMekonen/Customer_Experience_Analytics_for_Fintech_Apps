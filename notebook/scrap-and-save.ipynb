{
 "cells": [
  {
   "cell_type": "code",
   "execution_count": 1,
   "id": "43aa66a6",
   "metadata": {},
   "outputs": [],
   "source": [
    "import pandas as pd\n",
    "import sys\n",
    "import os\n",
    "sys.path.append(os.path.abspath(\"..\"))\n",
    "banks = {\n",
    "    \"Commercial Bank of Ethiopia\": \"com.combanketh.mobilebanking\",\n",
    "    \"Bank of Abyssinia\": \"com.boa.boaMobileBanking\",\n",
    "    \"Dashen Bank\": \"com.db.mobilebanking\"\n",
    "}\n",
    "from src.scraping import fetch_and_save_reviews\n",
    "from src.cleaning import preprocess_bank_reviews"
   ]
  },
  {
   "cell_type": "code",
   "execution_count": 2,
   "id": "18d545af",
   "metadata": {},
   "outputs": [
    {
     "name": "stdout",
     "output_type": "stream",
     "text": [
      "Saved 600 reviews for Commercial Bank of Ethiopia to commercial_bank_of_ethiopia_reviews.csv\n",
      "Saved 600 reviews for Bank of Abyssinia to bank_of_abyssinia_reviews.csv\n",
      "Saved 600 reviews for Dashen Bank to dashen_bank_reviews.csv\n"
     ]
    }
   ],
   "source": [
    "\n",
    "\n",
    "for bank_name, app_id in banks.items():\n",
    "    fetch_and_save_reviews(app_id, bank_name, count=600)"
   ]
  },
  {
   "cell_type": "code",
   "execution_count": null,
   "id": "8a21a30f",
   "metadata": {},
   "outputs": [
    {
     "name": "stdout",
     "output_type": "stream",
     "text": [
      "Loaded 600 reviews for Commercial Bank of Ethiopia\n",
      "Cleaned and saved 457 reviews to ../data/cleaned/commercial_bank_of_ethiopia_reviews_clean.csv\n",
      "Loaded 600 reviews for Bank of Abyssinia\n",
      "Cleaned and saved 518 reviews to ../data/cleaned/bank_of_abyssinia_reviews_clean.csv\n",
      "Loaded 600 reviews for Dashen Bank\n",
      "Cleaned and saved 483 reviews to ../data/cleaned/dashen_bank_reviews_clean.csv\n",
      "\n",
      "Combined cleaned dataset saved: 1458 total reviews\n"
     ]
    }
   ],
   "source": [
    "preprocess_bank_reviews(\"../data\", \"../data/cleaned\")\n"
   ]
  }
 ],
 "metadata": {
  "kernelspec": {
   "display_name": "Python 3 (ipykernel)",
   "language": "python",
   "name": "python3"
  },
  "language_info": {
   "codemirror_mode": {
    "name": "ipython",
    "version": 3
   },
   "file_extension": ".py",
   "mimetype": "text/x-python",
   "name": "python",
   "nbconvert_exporter": "python",
   "pygments_lexer": "ipython3",
   "version": "3.12.3"
  }
 },
 "nbformat": 4,
 "nbformat_minor": 5
}
