{
 "cells": [
  {
   "cell_type": "code",
   "execution_count": null,
   "id": "f9e61d8d",
   "metadata": {},
   "outputs": [],
   "source": [
    "import pandas as pd\n",
    "import sys\n",
    "import os\n",
    "sys.path.append(os.path.abspath(\"..\"))\n",
    "from src.sentiment_analysis import analyze_sentiment\n",
    "from src.theme_extraction import extract_keywords\n"
   ]
  },
  {
   "cell_type": "code",
   "execution_count": 14,
   "id": "b91ec10a",
   "metadata": {},
   "outputs": [
    {
     "name": "stderr",
     "output_type": "stream",
     "text": [
      "Device set to use cuda:0\n"
     ]
    },
    {
     "name": "stdout",
     "output_type": "stream",
     "text": [
      "Saved sentiment results to ../outputs/sentiment/all_banks_sentiment.csv\n"
     ]
    }
   ],
   "source": [
    "#Sentiment\n",
    "df_sent = analyze_sentiment(\"../data/cleaned/all_banks_reviews_clean.csv\",\n",
    "    output_path=\"../outputs/sentiment/all_banks_sentiment.csv\"\n",
    ")"
   ]
  },
  {
   "cell_type": "code",
   "execution_count": 15,
   "id": "2afea054",
   "metadata": {},
   "outputs": [
    {
     "name": "stdout",
     "output_type": "stream",
     "text": [
      "Saved thematic keywords to ../outputs/themes/bank_thmes_keywords.csv\n"
     ]
    }
   ],
   "source": [
    "#Extract themes\n",
    "df_themes = extract_keywords(\n",
    "    input_path=\"../outputs/sentiment/all_banks_sentiment.csv\",\n",
    "    output_path=\"../outputs/themes/bank_thmes_keywords.csv\",\n",
    "    top_n=50\n",
    ")"
   ]
  },
  {
   "cell_type": "code",
   "execution_count": 16,
   "id": "63074576",
   "metadata": {},
   "outputs": [
    {
     "name": "stdout",
     "output_type": "stream",
     "text": [
      "Saved clustered themes to ../outputs/themes/bank_themes_grouped.csv\n"
     ]
    }
   ],
   "source": [
    "from src.theme_extraction_keyword import extract_and_cluster_themes\n",
    "\n",
    "themes_df = extract_and_cluster_themes(\n",
    "    input_path=\"../outputs/sentiment/all_banks_sentiment.csv\",\n",
    "    output_path=\"../outputs/themes/bank_themes_grouped.csv\",\n",
    "    top_n=50\n",
    ")\n"
   ]
  }
 ],
 "metadata": {
  "kernelspec": {
   "display_name": "UX-venv",
   "language": "python",
   "name": "python3"
  },
  "language_info": {
   "codemirror_mode": {
    "name": "ipython",
    "version": 3
   },
   "file_extension": ".py",
   "mimetype": "text/x-python",
   "name": "python",
   "nbconvert_exporter": "python",
   "pygments_lexer": "ipython3",
   "version": "3.12.3"
  }
 },
 "nbformat": 4,
 "nbformat_minor": 5
}
