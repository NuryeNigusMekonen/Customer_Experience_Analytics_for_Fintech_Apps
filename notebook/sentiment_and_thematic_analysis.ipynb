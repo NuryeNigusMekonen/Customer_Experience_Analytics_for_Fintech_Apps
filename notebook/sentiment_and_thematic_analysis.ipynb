{
 "cells": [
  {
   "cell_type": "code",
   "execution_count": 1,
   "id": "f9e61d8d",
   "metadata": {},
   "outputs": [],
   "source": [
    "import pandas as pd\n",
    "import sys\n",
    "import os\n",
    "sys.path.append(os.path.abspath(\"..\"))\n",
    "from src.sentiment_analysis import analyze_sentiment\n",
    "from src.theme_extraction import extract_keywords"
   ]
  },
  {
   "cell_type": "code",
   "execution_count": 2,
   "id": "b91ec10a",
   "metadata": {},
   "outputs": [
    {
     "name": "stderr",
     "output_type": "stream",
     "text": [
      "Device set to use cuda:0\n"
     ]
    },
    {
     "name": "stdout",
     "output_type": "stream",
     "text": [
      "Saved sentiment results to ../outputs/sentiment/all_banks_sentiment_multilingual.csv\n"
     ]
    }
   ],
   "source": [
    "#Sentiment\n",
    "df_sent = analyze_sentiment(\n",
    "    input_path=\"../data/cleaned/all_banks_reviews_clean.csv\",\n",
    "    output_path=\"../outputs/sentiment/all_banks_sentiment_multilingual.csv\"\n",
    ")"
   ]
  },
  {
   "cell_type": "code",
   "execution_count": 3,
   "id": "2afea054",
   "metadata": {},
   "outputs": [
    {
     "name": "stdout",
     "output_type": "stream",
     "text": [
      "Saved thematic keywords to ../outputs/themes/bank_keywords_multilingual.csv\n"
     ]
    }
   ],
   "source": [
    "#Extract themes\n",
    "df_themes = extract_keywords(\n",
    "    input_path=\"../outputs/sentiment/all_banks_sentiment_multilingual.csv\",\n",
    "    output_path=\"../outputs/themes/bank_keywords_multilingual.csv\",\n",
    "    top_n=50\n",
    ")"
   ]
  }
 ],
 "metadata": {
  "kernelspec": {
   "display_name": "UX-venv",
   "language": "python",
   "name": "python3"
  },
  "language_info": {
   "codemirror_mode": {
    "name": "ipython",
    "version": 3
   },
   "file_extension": ".py",
   "mimetype": "text/x-python",
   "name": "python",
   "nbconvert_exporter": "python",
   "pygments_lexer": "ipython3",
   "version": "3.12.3"
  }
 },
 "nbformat": 4,
 "nbformat_minor": 5
}
